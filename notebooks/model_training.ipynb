{
 "cells": [
  {
   "cell_type": "markdown",
   "id": "c355f5aa",
   "metadata": {},
   "source": [
    "## Model Training and Evaluation\n",
    "\n",
    "The following sections contain the code for training and evaluation of several different models. For each model, we used a combination of following features - \n",
    "\n",
    "- level\n",
    "- difficulty\n",
    "- learning_stage\n",
    "- gender\n",
    "- user_grade\n",
    "- has_teacher_cnt\n",
    "- is_self_coach\n",
    "- has_student_cnt\n",
    "- belongs_to_class_cnt\n",
    "- has_class_cnt\n",
    "- m_level4_proficiency matrix\n",
    "- m_concept_proficiency matrix\n",
    "- v_upid_acc matrix\n",
    "- v_ucid_acc matrix\n",
    "\n",
    "In each model, our output variable was `is_correct` (i.e.), whether the student got the particular problem right / wrong. Each subsection contains the code for creating the training and testing data and we have reported accuracy of training and testing sets of different sizes. \n",
    "\n",
    "***"
   ]
  },
  {
   "cell_type": "code",
   "execution_count": 32,
   "id": "4ad97483",
   "metadata": {},
   "outputs": [],
   "source": [
    "import pandas as pd\n",
    "import numpy as np\n",
    "import os\n",
    "from sklearn.preprocessing import MinMaxScaler\n",
    "from sklearn.linear_model import LogisticRegression"
   ]
  },
  {
   "cell_type": "code",
   "execution_count": 2,
   "id": "df56b1e1",
   "metadata": {},
   "outputs": [],
   "source": [
    "# Path\n",
    "PATH_FEATURE_STORE = '../data/feature_store'\n",
    "PATH_PREPROCESSED_INPUT = '../data/experiment'\n",
    "\n",
    "# Files\n",
    "FILE_LOG = os.path.join(PATH_FEATURE_STORE ,'df_log_with_upid_acc.parquet.gzip')\n",
    "FILE_USER_PROCESSED = os.path.join(PATH_PREPROCESSED_INPUT ,'Processed_Info_UserData_train.parquet.gzip')\n",
    "FILE_CONTENT_PROCESSED = os.path.join(PATH_PREPROCESSED_INPUT ,'Processed_Info_Content_train.parquet.gzip')"
   ]
  },
  {
   "cell_type": "code",
   "execution_count": 3,
   "id": "1fea8f6a",
   "metadata": {},
   "outputs": [],
   "source": [
    "# Load data\n",
    "df_user = pd.read_parquet(FILE_USER_PROCESSED)\n",
    "df_content = pd.read_parquet(FILE_CONTENT_PROCESSED)\n",
    "df_log = pd.read_parquet(FILE_LOG)\n",
    "\n",
    "# Join tables based on uuid and ucid\n",
    "df1 = pd.merge(df_log, df_user, how='inner', left_on=['uuid', 'user_grade'], right_on=['uuid', 'user_grade']) # NOTE: user_grade is duplicated in both tables\n",
    "df2 = pd.merge(df1, df_content, on='ucid')"
   ]
  },
  {
   "cell_type": "code",
   "execution_count": 4,
   "id": "f16c0e29",
   "metadata": {},
   "outputs": [],
   "source": [
    "df = df2.copy()"
   ]
  },
  {
   "cell_type": "code",
   "execution_count": 7,
   "id": "8963f9fa",
   "metadata": {},
   "outputs": [],
   "source": [
    "# Assign category labels to Gender, Difficulty and Learning Columns.\n",
    "df.loc[: 'gender'] = df.loc[: 'gender'].replace({'unspecified': 0, 'male': 1, 'female': 2})\n",
    "df.loc[: 'difficulty'] = df.loc[: 'difficulty'].replace({'unset': 0, 'easy': 1, 'normal': 2, 'hard': 3})\n",
    "df.loc[: 'learning_stage'] = df.loc[: 'learning_stage'].replace({'elementary': 0, 'junior': 1, 'senior': 2})\n",
    "df = df.dropna()"
   ]
  },
  {
   "cell_type": "markdown",
   "id": "30d25479",
   "metadata": {},
   "source": [
    "### Model 1: Benchmark model - Logistic Regression\n",
    "\n",
    "#### Input Features\n",
    "- level\n",
    "- difficulty\n",
    "- learning_stage\n",
    "- gender\n",
    "- user_grade\n",
    "- has_teacher_cnt\n",
    "- is_self_coach\n",
    "- has_student_cnt\n",
    "- belongs_to_class_cnt\n",
    "- has_class_cnt\n",
    "\n",
    "#### Output Feature\n",
    "- is_correct"
   ]
  },
  {
   "cell_type": "code",
   "execution_count": 8,
   "id": "c88f0c2d",
   "metadata": {},
   "outputs": [],
   "source": [
    "# Select only required columns \n",
    "required_columns = ['is_correct', 'total_attempt_cnt', 'user_grade',\n",
    "                    'used_hint_cnt', 'level', 'difficulty', 'learning_stage', \n",
    "                    'gender',  'has_teacher_cnt', 'is_self_coach', \n",
    "                    'has_student_cnt', 'belongs_to_class_cnt', 'has_class_cnt']\n",
    "                    # ['total_sec_taken', 'is_hint_used'] not in index\n",
    "df_logistic = df[required_columns]"
   ]
  },
  {
   "cell_type": "code",
   "execution_count": 10,
   "id": "0d24eb85",
   "metadata": {},
   "outputs": [],
   "source": [
    "# Convert DataFrame to numpy array\n",
    "input_data = df_logistic.to_numpy()\n",
    "n = input_data.shape[0]"
   ]
  },
  {
   "cell_type": "code",
   "execution_count": 35,
   "id": "20fe31cc",
   "metadata": {},
   "outputs": [
    {
     "data": {
      "text/plain": [
       "3414657"
      ]
     },
     "execution_count": 35,
     "metadata": {},
     "output_type": "execute_result"
    }
   ],
   "source": [
    "n"
   ]
  },
  {
   "cell_type": "code",
   "execution_count": null,
   "id": "f6e5ef00",
   "metadata": {},
   "outputs": [
    {
     "name": "stdout",
     "output_type": "stream",
     "text": [
      "X_train shape is =  (2731725, 8)\n",
      "y_train shape is =  (2731725, 1)\n",
      "X_eval shape is =  (682932, 8)\n",
      "y_eval shape is =  (682932, 1)\n"
     ]
    }
   ],
   "source": [
    "# Split the data into 80 - 20% split for training and testing\n",
    "\n",
    "num_samples = int(n * 0.8)\n",
    "samples = np.random.choice(range(n), num_samples, replace=False)\n",
    "mask = np.ones(n, dtype=bool)\n",
    "mask[samples] = False\n",
    "\n",
    "X_train = input_data[samples, 5:]\n",
    "y_train = input_data[samples, 0]\n",
    "y_train = np.reshape(y_train, (num_samples, 1))\n",
    "y_train = y_train.astype('int')\n",
    "\n",
    "X_eval = input_data[mask, 5:]\n",
    "y_eval = input_data[mask, 0]\n",
    "y_eval = np.reshape(y_eval, (n - num_samples, 1))\n",
    "y_eval = y_eval.astype('int')\n",
    "\n",
    "print('X_train shape is = ', np.shape(X_train))\n",
    "print('y_train shape is = ', np.shape(y_train))\n",
    "print('X_eval shape is = ', np.shape(X_eval))\n",
    "print('y_eval shape is = ', np.shape(y_eval))"
   ]
  },
  {
   "cell_type": "code",
   "execution_count": 33,
   "id": "fb18bca2",
   "metadata": {},
   "outputs": [
    {
     "name": "stderr",
     "output_type": "stream",
     "text": [
      "/Users/hsin-pei/Desktop/github_repo/junyi-online-learning-prediction/.venv/lib/python3.12/site-packages/sklearn/utils/validation.py:1406: DataConversionWarning: A column-vector y was passed when a 1d array was expected. Please change the shape of y to (n_samples, ), for example using ravel().\n",
      "  y = column_or_1d(y, warn=True)\n"
     ]
    }
   ],
   "source": [
    "X_train_scaled = MinMaxScaler().fit_transform(X_train)\n",
    "model = LogisticRegression(random_state=0).fit(X_train_scaled, y_train)"
   ]
  },
  {
   "cell_type": "code",
   "execution_count": 34,
   "id": "bdda6253",
   "metadata": {},
   "outputs": [
    {
     "data": {
      "text/plain": [
       "0.6938040683406255"
      ]
     },
     "execution_count": 34,
     "metadata": {},
     "output_type": "execute_result"
    }
   ],
   "source": [
    "X_eval_scaled = MinMaxScaler().fit_transform(X_eval)\n",
    "model.score(X_eval_scaled, y_eval)"
   ]
  },
  {
   "cell_type": "markdown",
   "id": "02dd9c9b",
   "metadata": {},
   "source": [
    "***\n",
    "\n",
    "- Accuracy (n = 3M) = 69.3 %\n",
    "\n",
    "***"
   ]
  }
 ],
 "metadata": {
  "kernelspec": {
   "display_name": ".venv",
   "language": "python",
   "name": "python3"
  },
  "language_info": {
   "codemirror_mode": {
    "name": "ipython",
    "version": 3
   },
   "file_extension": ".py",
   "mimetype": "text/x-python",
   "name": "python",
   "nbconvert_exporter": "python",
   "pygments_lexer": "ipython3",
   "version": "3.12.9"
  }
 },
 "nbformat": 4,
 "nbformat_minor": 5
}
