{
 "cells": [
  {
   "cell_type": "markdown",
   "id": "c355f5aa",
   "metadata": {},
   "source": [
    "## Model Training and Evaluation\n",
    "\n",
    "The following sections contain the code for training and evaluation of several different models. For each model, we used a combination of following features - \n",
    "\n",
    "- level\n",
    "- difficulty\n",
    "- learning_stage\n",
    "- gender\n",
    "- user_grade\n",
    "- has_teacher_cnt\n",
    "- is_self_coach\n",
    "- has_student_cnt\n",
    "- belongs_to_class_cnt\n",
    "- has_class_cnt\n",
    "- m_level4_proficiency matrix\n",
    "- m_concept_proficiency matrix\n",
    "- v_upid_acc matrix\n",
    "- v_ucid_acc matrix\n",
    "\n",
    "In each model, our output variable was `is_correct` (i.e.), whether the student got the particular problem right / wrong. Each subsection contains the code for creating the training and testing data and we have reported accuracy of training and testing sets of different sizes. \n",
    "\n",
    "***"
   ]
  },
  {
   "cell_type": "code",
   "execution_count": 56,
   "id": "4ad97483",
   "metadata": {},
   "outputs": [],
   "source": [
    "import pandas as pd\n",
    "import numpy as np\n",
    "import os\n",
    "from sklearn.preprocessing import MinMaxScaler\n",
    "from sklearn.linear_model import LogisticRegression\n",
    "from sklearn.tree import DecisionTreeClassifier"
   ]
  },
  {
   "cell_type": "code",
   "execution_count": 46,
   "id": "df56b1e1",
   "metadata": {},
   "outputs": [],
   "source": [
    "# Path\n",
    "PATH_FEATURE_STORE = '../data/feature_store'\n",
    "PATH_PREPROCESSED_INPUT = '../data/experiment'\n",
    "\n",
    "# Files\n",
    "FILE_LOG = os.path.join(PATH_FEATURE_STORE ,'df_log_with_upid_acc.parquet.gzip')\n",
    "FILE_USER_PROCESSED = os.path.join(PATH_PREPROCESSED_INPUT ,'Processed_Info_UserData_train.parquet.gzip')\n",
    "FILE_CONTENT_PROCESSED = os.path.join(PATH_PREPROCESSED_INPUT ,'Processed_Info_Content_train.parquet.gzip')\n",
    "\n",
    "# Feature files\n",
    "FILE_M_CONCEPT_PROFICIENCY = os.path.join(PATH_FEATURE_STORE, 'm_concept_proficiency.npz')"
   ]
  },
  {
   "cell_type": "code",
   "execution_count": 3,
   "id": "1fea8f6a",
   "metadata": {},
   "outputs": [],
   "source": [
    "# Load data\n",
    "df_user = pd.read_parquet(FILE_USER_PROCESSED)\n",
    "df_content = pd.read_parquet(FILE_CONTENT_PROCESSED)\n",
    "df_log = pd.read_parquet(FILE_LOG)\n",
    "\n",
    "# Join tables based on uuid and ucid\n",
    "df1 = pd.merge(df_log, df_user, how='inner', left_on=['uuid', 'user_grade'], right_on=['uuid', 'user_grade']) # NOTE: user_grade is duplicated in both tables\n",
    "df2 = pd.merge(df1, df_content, on='ucid')"
   ]
  },
  {
   "cell_type": "code",
   "execution_count": 4,
   "id": "f16c0e29",
   "metadata": {},
   "outputs": [],
   "source": [
    "df = df2.copy()"
   ]
  },
  {
   "cell_type": "code",
   "execution_count": 7,
   "id": "8963f9fa",
   "metadata": {},
   "outputs": [],
   "source": [
    "# Assign category labels to Gender, Difficulty and Learning Columns.\n",
    "df.loc[: 'gender'] = df.loc[: 'gender'].replace({'unspecified': 0, 'male': 1, 'female': 2})\n",
    "df.loc[: 'difficulty'] = df.loc[: 'difficulty'].replace({'unset': 0, 'easy': 1, 'normal': 2, 'hard': 3})\n",
    "df.loc[: 'learning_stage'] = df.loc[: 'learning_stage'].replace({'elementary': 0, 'junior': 1, 'senior': 2})\n",
    "df = df.dropna()"
   ]
  },
  {
   "cell_type": "markdown",
   "id": "30d25479",
   "metadata": {},
   "source": [
    "### Model 1: Benchmark model - Logistic Regression\n",
    "\n",
    "#### Input Features\n",
    "- level\n",
    "- difficulty\n",
    "- learning_stage\n",
    "- gender\n",
    "- user_grade\n",
    "- has_teacher_cnt\n",
    "- is_self_coach\n",
    "- has_student_cnt\n",
    "- belongs_to_class_cnt\n",
    "- has_class_cnt\n",
    "\n",
    "#### Output Feature\n",
    "- is_correct"
   ]
  },
  {
   "cell_type": "code",
   "execution_count": 8,
   "id": "c88f0c2d",
   "metadata": {},
   "outputs": [],
   "source": [
    "# Select only required columns \n",
    "required_columns = ['is_correct', 'total_attempt_cnt', 'user_grade',\n",
    "                    'used_hint_cnt', 'level', 'difficulty', 'learning_stage', \n",
    "                    'gender',  'has_teacher_cnt', 'is_self_coach', \n",
    "                    'has_student_cnt', 'belongs_to_class_cnt', 'has_class_cnt']\n",
    "                    # ['total_sec_taken', 'is_hint_used'] not in index\n",
    "df_logistic = df[required_columns]"
   ]
  },
  {
   "cell_type": "code",
   "execution_count": 10,
   "id": "0d24eb85",
   "metadata": {},
   "outputs": [],
   "source": [
    "# Convert DataFrame to numpy array\n",
    "input_data = df_logistic.to_numpy()\n",
    "n = input_data.shape[0]"
   ]
  },
  {
   "cell_type": "code",
   "execution_count": 35,
   "id": "20fe31cc",
   "metadata": {},
   "outputs": [
    {
     "data": {
      "text/plain": [
       "3414657"
      ]
     },
     "execution_count": 35,
     "metadata": {},
     "output_type": "execute_result"
    }
   ],
   "source": [
    "n"
   ]
  },
  {
   "cell_type": "code",
   "execution_count": null,
   "id": "f6e5ef00",
   "metadata": {},
   "outputs": [
    {
     "name": "stdout",
     "output_type": "stream",
     "text": [
      "X_train shape is =  (2731725, 8)\n",
      "y_train shape is =  (2731725, 1)\n",
      "X_eval shape is =  (682932, 8)\n",
      "y_eval shape is =  (682932, 1)\n"
     ]
    }
   ],
   "source": [
    "# Split the data into 80 - 20% split for training and testing\n",
    "\n",
    "num_samples = int(n * 0.8)\n",
    "samples = np.random.choice(range(n), num_samples, replace=False)\n",
    "mask = np.ones(n, dtype=bool)\n",
    "mask[samples] = False\n",
    "\n",
    "X_train = input_data[samples, 5:]\n",
    "y_train = input_data[samples, 0]\n",
    "y_train = np.reshape(y_train, (num_samples, 1))\n",
    "y_train = y_train.astype('int')\n",
    "\n",
    "X_eval = input_data[mask, 5:]\n",
    "y_eval = input_data[mask, 0]\n",
    "y_eval = np.reshape(y_eval, (n - num_samples, 1))\n",
    "y_eval = y_eval.astype('int')\n",
    "\n",
    "print('X_train shape is = ', np.shape(X_train))\n",
    "print('y_train shape is = ', np.shape(y_train))\n",
    "print('X_eval shape is = ', np.shape(X_eval))\n",
    "print('y_eval shape is = ', np.shape(y_eval))"
   ]
  },
  {
   "cell_type": "code",
   "execution_count": 33,
   "id": "fb18bca2",
   "metadata": {},
   "outputs": [
    {
     "name": "stderr",
     "output_type": "stream",
     "text": [
      "/Users/hsin-pei/Desktop/github_repo/junyi-online-learning-prediction/.venv/lib/python3.12/site-packages/sklearn/utils/validation.py:1406: DataConversionWarning: A column-vector y was passed when a 1d array was expected. Please change the shape of y to (n_samples, ), for example using ravel().\n",
      "  y = column_or_1d(y, warn=True)\n"
     ]
    }
   ],
   "source": [
    "X_train_scaled = MinMaxScaler().fit_transform(X_train)\n",
    "model = LogisticRegression(random_state=0).fit(X_train_scaled, y_train)"
   ]
  },
  {
   "cell_type": "code",
   "execution_count": 34,
   "id": "bdda6253",
   "metadata": {},
   "outputs": [
    {
     "data": {
      "text/plain": [
       "0.6938040683406255"
      ]
     },
     "execution_count": 34,
     "metadata": {},
     "output_type": "execute_result"
    }
   ],
   "source": [
    "X_eval_scaled = MinMaxScaler().fit_transform(X_eval)\n",
    "model.score(X_eval_scaled, y_eval)"
   ]
  },
  {
   "cell_type": "markdown",
   "id": "02dd9c9b",
   "metadata": {},
   "source": [
    "***\n",
    "\n",
    "- Accuracy (n = 3M) = 69.3 %\n",
    "\n",
    "***"
   ]
  },
  {
   "cell_type": "markdown",
   "id": "bcf56b0b",
   "metadata": {},
   "source": [
    "### Model 2 - Full model\n",
    "\n",
    "\n",
    "- For how the features were engineered, see the section [Feature Engineering](#Feature-Engineering)\n",
    "- Labels (y) [# logs x 1]:\n",
    "    - Correct or not of the new problem (problem-level)\n",
    "- Features (X):\n",
    "    - Demographics [#logs x 4] [From **df_user**]\n",
    "        - grade (#logs x 1)\n",
    "        - gender (#logs x 3)\n",
    "    - Difficulty features  [#logs x 1]:\n",
    "        - upid accuracy [**From v_upid_acc**]\n",
    "        - ~difficulty (only 3 levels, not quite informative)~\n",
    "        - ~learning_stage (only elementary vs. junior, not quite informative)~\n",
    "    - History features [#logs x 3]: \n",
    "        - most recent 'Level' of this ucid [From **df_log**]\n",
    "        - 'problem_number' of this 'ucid' [From **df_log**]\n",
    "        - 'exercise_problem_repeat_session' of this 'upid' [From **df_log**]        \n",
    "    - One-hot encoding matrix [#logs x #level4 id]:  [**m_level4_id**]\n",
    "        - one-hot encoding of the content ID of the new \n",
    "    - Proficiency matrix [#logs x #level4 id]: [**m_proficiency**]\n",
    "        - encodes the student’s performance of each content (i.e.,level)    \n",
    "- Model:\n",
    "    - Decision Tree\n",
    "    - Logistic Regression\n",
    "        - With L2 penalty\n",
    "        - With L1 penalty\n",
    "    - SVM\n",
    "        - With rbf kernal\n",
    "        - With linear kernal\n",
    "- Evaludate Accuracy:\n",
    "    - Hold-out 20% test set\n",
    "\n",
    "***\n"
   ]
  },
  {
   "cell_type": "code",
   "execution_count": 50,
   "id": "a4215e61",
   "metadata": {},
   "outputs": [],
   "source": [
    "# Load proficiency matrices\n",
    "m_concept_proficiency = np.load(FILE_M_CONCEPT_PROFICIENCY)[\"arr_0\"]"
   ]
  },
  {
   "cell_type": "markdown",
   "id": "f08e7e5a",
   "metadata": {},
   "source": [
    "#### Split the data into 80 - 20% split for training and testing"
   ]
  },
  {
   "cell_type": "code",
   "execution_count": 54,
   "id": "69106844",
   "metadata": {},
   "outputs": [
    {
     "name": "stdout",
     "output_type": "stream",
     "text": [
      "X_train shape is =  (8000, 1334)\n",
      "y_train shape is =  (8000,)\n",
      "X_test shape is =  (2000, 1334)\n",
      "y_test shape is =  (2000,)\n"
     ]
    }
   ],
   "source": [
    "# set to `num_samples` for using full data. set to a small number for quick testing\n",
    "# n_subset = 10000000 will overflow the RAM limit (this step `np.concatenate()`)\n",
    "n_subset = 10000\n",
    "# n_subset = df_log.shape[0]\n",
    "\n",
    "num_samples = int(df_log.head(n_subset).shape[0])\n",
    "num_train_samples = int(num_samples * 0.8)\n",
    "\n",
    "np.random.seed(760)\n",
    "samples_train = np.random.choice(range(num_samples), num_train_samples, replace=False)\n",
    "\n",
    "# True: training set/ False: test set\n",
    "mask_train = np.zeros(num_samples, dtype=bool)\n",
    "mask_train[samples_train] = True\n",
    "\n",
    "X_train = np.concatenate((\n",
    "        # grade\n",
    "        df_log.head(n_subset).loc[mask_train,\"user_grade\"].to_numpy()[:,np.newaxis],\n",
    "        # gender\n",
    "        df_log.head(n_subset).loc[mask_train,[\"female\",\"male\",\"unspecified\"]].to_numpy(),\n",
    "        # Difficulty features \n",
    "        df_log.head(n_subset).loc[mask_train,[\"v_upid_acc\"]].to_numpy(),\n",
    "        # History features\n",
    "        df_log.head(n_subset).loc[mask_train,\"level\"].to_numpy()[:,np.newaxis],    \n",
    "        df_log.head(n_subset).loc[mask_train,\"problem_number\"].to_numpy()[:,np.newaxis],\n",
    "        df_log.head(n_subset).loc[mask_train,\"exercise_problem_repeat_session\"].to_numpy()[:,np.newaxis],    \n",
    "        # # one-hot matrix\n",
    "        # m_level4_id[:n_subset,:][mask_train,:],\n",
    "        # proficiency matrix\n",
    "        m_concept_proficiency[:n_subset,:][mask_train,:]\n",
    "#         # interaction between one-hot matrix and proficiency matrix\n",
    "#         m_inter_level4_proficiency[:n_subset,:][mask_train,:]\n",
    "    ),axis=1)\n",
    "\n",
    "y_train = df_log.head(n_subset).loc[mask_train,\"is_correct\"].to_numpy(dtype = bool)\n",
    "\n",
    "X_test = np.concatenate((\n",
    "        # grade    \n",
    "        df_log.head(n_subset).loc[~mask_train,\"user_grade\"].to_numpy()[:,np.newaxis],\n",
    "        # gender\n",
    "        df_log.head(n_subset).loc[~mask_train,[\"female\",\"male\",\"unspecified\"]].to_numpy(),\n",
    "        # Difficulty features \n",
    "        df_log.head(n_subset).loc[~mask_train,[\"v_upid_acc\"]].to_numpy(),\n",
    "        # History features\n",
    "        df_log.head(n_subset).loc[~mask_train,\"level\"].to_numpy()[:,np.newaxis],        \n",
    "        df_log.head(n_subset).loc[~mask_train,\"problem_number\"].to_numpy()[:,np.newaxis],\n",
    "        df_log.head(n_subset).loc[~mask_train,\"exercise_problem_repeat_session\"].to_numpy()[:,np.newaxis],    \n",
    "        # one-hot matrix\n",
    "        # m_level4_id[:n_subset,:][~mask_train,:],\n",
    "        # proficiency matrix\n",
    "        m_concept_proficiency[:n_subset,:][~mask_train,:]\n",
    "#         # interaction between one-hot matrix and proficiency matrix\n",
    "#         m_inter_level4_proficiency[:n_subset,:][~mask_train,:]    \n",
    "    ),axis=1)\n",
    "y_test = df_log.head(n_subset).loc[~mask_train,\"is_correct\"].to_numpy(dtype = bool)\n",
    "\n",
    "\n",
    "print('X_train shape is = ', np.shape(X_train))\n",
    "print('y_train shape is = ', np.shape(y_train))\n",
    "\n",
    "print('X_test shape is = ', np.shape(X_test))\n",
    "print('y_test shape is = ', np.shape(y_test))"
   ]
  },
  {
   "cell_type": "code",
   "execution_count": 55,
   "id": "001960c8",
   "metadata": {},
   "outputs": [],
   "source": [
    "# Overwrite the raw data matrix to reduce RAM usage\n",
    "X_train = MinMaxScaler().fit_transform(X_train)\n",
    "X_test = MinMaxScaler().fit_transform(X_test)"
   ]
  },
  {
   "cell_type": "code",
   "execution_count": 59,
   "id": "8fe18a0f",
   "metadata": {},
   "outputs": [
    {
     "name": "stdout",
     "output_type": "stream",
     "text": [
      "# n_subset = 10000 : train = 0.909375 ; test = 0.6665\n"
     ]
    }
   ],
   "source": [
    "dc_full = DecisionTreeClassifier(criterion=\"entropy\",random_state=0).fit(X_train, y_train)\n",
    "print(\"# n_subset = \" + str(n_subset),\": \",end = \"\")\n",
    "print(\"train = \" + str(dc_full.score(X_train, y_train))+\" ; \",end = \"\")\n",
    "print(\"test = \" + str(dc_full.score(X_test, y_test)))"
   ]
  }
 ],
 "metadata": {
  "kernelspec": {
   "display_name": ".venv",
   "language": "python",
   "name": "python3"
  },
  "language_info": {
   "codemirror_mode": {
    "name": "ipython",
    "version": 3
   },
   "file_extension": ".py",
   "mimetype": "text/x-python",
   "name": "python",
   "nbconvert_exporter": "python",
   "pygments_lexer": "ipython3",
   "version": "3.12.9"
  }
 },
 "nbformat": 4,
 "nbformat_minor": 5
}
