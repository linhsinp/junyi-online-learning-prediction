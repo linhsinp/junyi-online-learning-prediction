{
 "cells": [
  {
   "cell_type": "markdown",
   "id": "c355f5aa",
   "metadata": {},
   "source": [
    "## Model Training and Evaluation\n",
    "\n",
    "The following sections contain the code for training and evaluation of several different models. For each model, we used a combination of following features - \n",
    "\n",
    "- level\n",
    "- difficulty\n",
    "- learning_stage\n",
    "- gender\n",
    "- user_grade\n",
    "- has_teacher_cnt\n",
    "- is_self_coach\n",
    "- has_student_cnt\n",
    "- belongs_to_class_cnt\n",
    "- has_class_cnt\n",
    "- m_level4_proficiency matrix\n",
    "- m_concept_proficiency matrix\n",
    "- v_upid_acc matrix\n",
    "- v_ucid_acc matrix\n",
    "\n",
    "In each model, our output variable was `is_correct` (i.e.), whether the student got the particular problem right / wrong. Each subsection contains the code for creating the training and testing data and we have reported accuracy of training and testing sets of different sizes. \n",
    "\n",
    "***"
   ]
  }
 ],
 "metadata": {
  "kernelspec": {
   "display_name": ".venv",
   "language": "python",
   "name": "python3"
  },
  "language_info": {
   "name": "python",
   "version": "3.12.9"
  }
 },
 "nbformat": 4,
 "nbformat_minor": 5
}
